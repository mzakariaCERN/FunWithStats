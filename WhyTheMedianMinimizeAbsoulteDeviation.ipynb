{
 "cells": [
  {
   "cell_type": "markdown",
   "metadata": {},
   "source": [
    "\n",
    "Good references:   \n",
    "https://medium.com/@gennadylaptev/median-and-mae-3e85f92df2d7  \n",
    "https://math.stackexchange.com/questions/85448/why-does-the-median-minimize-ex-c\n"
   ]
  },
  {
   "cell_type": "markdown",
   "metadata": {},
   "source": [
    "Start with the definition of Mean Absolute Error:\n",
    "\n",
    "$$ MAE = \\frac{1}{N} \\sum_{i=1}^{N} |y_{i} - \\hat{y_{i}}| $$"
   ]
  },
  {
   "cell_type": "markdown",
   "metadata": {},
   "source": [
    "The median can be defined as the valie $M$ that has half of the values - in any distribution - above it.\n",
    "$$ P(x \\le M) \\ge \\frac{1}{2}$$ and $$ P(x \\ge M) \\ge \\frac{1}{2}$$"
   ]
  },
  {
   "cell_type": "code",
   "execution_count": null,
   "metadata": {},
   "outputs": [],
   "source": []
  }
 ],
 "metadata": {
  "kernelspec": {
   "display_name": "Python 3.7.4 64-bit ('EmailO')",
   "language": "python",
   "name": "python37464bitemailo63855dce5e61475b8f840997817136b0"
  },
  "language_info": {
   "codemirror_mode": {
    "name": "ipython",
    "version": 3
   },
   "file_extension": ".py",
   "mimetype": "text/x-python",
   "name": "python",
   "nbconvert_exporter": "python",
   "pygments_lexer": "ipython3",
   "version": "3.7.4"
  }
 },
 "nbformat": 4,
 "nbformat_minor": 4
}
