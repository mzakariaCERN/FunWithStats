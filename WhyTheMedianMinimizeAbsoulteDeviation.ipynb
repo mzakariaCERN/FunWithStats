{
 "cells": [
  {
   "cell_type": "markdown",
   "metadata": {},
   "source": [
    "\n",
    "Good reference: \n",
    "https://medium.com/@gennadylaptev/median-and-mae-3e85f92df2d7\n",
    "https://math.stackexchange.com/questions/85448/why-does-the-median-minimize-ex-c\n"
   ]
  }
 ],
 "metadata": {
  "kernelspec": {
   "display_name": "Python 3.7.4 64-bit ('EmailO')",
   "language": "python",
   "name": "python37464bitemailo63855dce5e61475b8f840997817136b0"
  },
  "language_info": {
   "name": ""
  }
 },
 "nbformat": 4,
 "nbformat_minor": 4
}
