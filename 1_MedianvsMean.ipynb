{
 "cells": [
  {
   "cell_type": "markdown",
   "metadata": {},
   "source": [
    "# This notebook to caputre my notes about the distance between the median and the mode in distributions"
   ]
  },
  {
   "cell_type": "markdown",
   "metadata": {},
   "source": [
    "One of the most surprising and little-known results in classical statistics is the relationship between the mean, median, and standard deviation. If the distribution has finite variance, then the distance between the median and the mean is bounded by one standard deviation.\n"
   ]
  },
  {
   "cell_type": "markdown",
   "metadata": {},
   "source": [
    "$$|\\mu - m| \\leq \\sigma$$"
   ]
  },
  {
   "cell_type": "markdown",
   "metadata": {},
   "source": [
    "We assigned this as a HW exercise in a class I taught as a grad student at MIT circa 1991\n",
    "\n",
    "Coincidentally, it was written up around the same time by C. Mallows in \"Another comment on O'Cinneide\" The American Statistician, 45-3\n",
    "\n",
    "https://amstat.tandfonline.com/doi/abs/10.1080/00031305.1990.10475743\n",
    "\n",
    "\n",
    "Proof is easy using Jensen's inequality twice:"
   ]
  },
  {
   "cell_type": "markdown",
   "metadata": {},
   "source": [
    "$|\\mu - m| = |E(X - m)|$ (By defintion, where E is the expectation value)  \n",
    "but  \n",
    "$ |E(X - m)| \\leq E(|X-m|)$  from Jensen's inequality: $E[h(z)] \\geq h[E(z)]$, see wikipedia or Stuart P67"
   ]
  },
  {
   "cell_type": "markdown",
   "metadata": {},
   "source": [
    "Since it is known that the median minimize E(|X−c|), see  \n",
    "https://math.stackexchange.com/questions/85448/why-does-the-median-minimize-ex-c\n",
    "\n",
    "then:\n",
    "$ E(|X - m|) \\leq E(|X - \\mu|)$ "
   ]
  },
  {
   "cell_type": "markdown",
   "metadata": {},
   "source": [
    "But $E(|X - \\mu|) = E(\\sqrt{(X - \\mu)^{2}})$ Definition of absolute value  \n",
    "using Jensen's inequality one more time  \n",
    "$E(\\sqrt{(X - \\mu)^{2}}) \\geq \\sqrt{E(X - \\mu)^{2}} $"
   ]
  },
  {
   "cell_type": "markdown",
   "metadata": {},
   "source": [
    "source \n",
    "https://twitter.com/docmilanfar/status/1244063988914110464?s=20\n"
   ]
  }
 ],
 "metadata": {
  "kernelspec": {
   "display_name": "Python 3",
   "language": "python",
   "name": "python3"
  },
  "language_info": {
   "codemirror_mode": {
    "name": "ipython",
    "version": 3
   },
   "file_extension": ".py",
   "mimetype": "text/x-python",
   "name": "python",
   "nbconvert_exporter": "python",
   "pygments_lexer": "ipython3",
   "version": "3.7.3"
  }
 },
 "nbformat": 4,
 "nbformat_minor": 4
}
