{
 "cells": [
  {
   "cell_type": "markdown",
   "metadata": {},
   "source": [
    "# Arithmetic mean vs. Geometric mean"
   ]
  },
  {
   "cell_type": "markdown",
   "metadata": {},
   "source": [
    "Let M be the Arithmetic mean and m be the Geometric mean"
   ]
  },
  {
   "cell_type": "markdown",
   "metadata": {},
   "source": [
    "$M = \\frac{x_{1} + x_{2} + ... + x_{n}}{n}  \\geq \\sqrt[n]{x_{1}.x_{2}...x_{n}} = m$ "
   ]
  },
  {
   "cell_type": "markdown",
   "metadata": {},
   "source": [
    "M dominates m, but they are the same if the numbers are equal"
   ]
  },
  {
   "cell_type": "markdown",
   "metadata": {},
   "source": [
    "For a proof see: https://twitter.com/docmilanfar/status/1262203570343931905\n",
    "\n",
    "A simplified versions can be seen from this figure:\n",
    "\n",
    "\n",
    "![Proof](Images/3/Proof.png)  \n",
    "\n",
    "\n",
    "Here we see  \n",
    "$4xy  \\leq (x+y)^{2}$  \n",
    "\n",
    "$\\sqrt[2]{xy} \\leq \\frac{x + y}{2}$"
   ]
  },
  {
   "cell_type": "markdown",
   "metadata": {},
   "source": [
    "M and m are both maximum likelihood (ML) estimates of centrality: M for x_i independent samples from a Gaussian; and m for x_i independent samples from a log-normal density. In fact, generalized means are all ML estimates for exponential family\n",
    "https://ecommons.cornell.edu/bitstream/handle/1813/31710/BU-1133-M.pdf?sequence=1&isAllowed=y"
   ]
  },
  {
   "cell_type": "markdown",
   "metadata": {},
   "source": [
    "The surprise: geometric (m) and arithmetic (M) means are comparable quantities when n is large, regardless of density! i.e. r=m/M converges to *some constant* with high probability. Concentration often results from Lipschitz behavior; but strangely, r isn't even continuous.\n",
    "https://link.springer.com/article/10.1007/s10959-009-0215-9"
   ]
  },
  {
   "cell_type": "code",
   "execution_count": null,
   "metadata": {},
   "outputs": [],
   "source": []
  }
 ],
 "metadata": {
  "kernelspec": {
   "display_name": "Python 3.7.4 64-bit ('EmailO': conda)",
   "language": "python",
   "name": "python37464bitemailoconda80d5ca88bd394217b6c5518c0874cdd8"
  },
  "language_info": {
   "codemirror_mode": {
    "name": "ipython",
    "version": 3
   },
   "file_extension": ".py",
   "mimetype": "text/x-python",
   "name": "python",
   "nbconvert_exporter": "python",
   "pygments_lexer": "ipython3",
   "version": "3.7.4"
  }
 },
 "nbformat": 4,
 "nbformat_minor": 4
}
