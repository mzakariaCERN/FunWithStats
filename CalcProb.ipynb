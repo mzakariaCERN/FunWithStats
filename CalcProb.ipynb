```
## Calculate the Probability in a Continuous Distribution assuming the period is between 0 and 30
```
